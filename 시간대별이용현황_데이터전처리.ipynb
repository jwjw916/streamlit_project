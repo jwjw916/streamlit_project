{
  "nbformat": 4,
  "nbformat_minor": 0,
  "metadata": {
    "colab": {
      "private_outputs": true,
      "provenance": [],
      "authorship_tag": "ABX9TyNTond13iw/+qBWnH4QvaOG",
      "include_colab_link": true
    },
    "kernelspec": {
      "name": "python3",
      "display_name": "Python 3"
    },
    "language_info": {
      "name": "python"
    }
  },
  "cells": [
    {
      "cell_type": "markdown",
      "metadata": {
        "id": "view-in-github",
        "colab_type": "text"
      },
      "source": [
        "<a href=\"https://colab.research.google.com/github/jwjw916/streamlit_project/blob/main/%EC%8B%9C%EA%B0%84%EB%8C%80%EB%B3%84%EC%9D%B4%EC%9A%A9%ED%98%84%ED%99%A9_%EB%8D%B0%EC%9D%B4%ED%84%B0%EC%A0%84%EC%B2%98%EB%A6%AC.ipynb\" target=\"_parent\"><img src=\"https://colab.research.google.com/assets/colab-badge.svg\" alt=\"Open In Colab\"/></a>"
      ]
    },
    {
      "cell_type": "code",
      "execution_count": null,
      "metadata": {
        "id": "Y51vk9Z4VlAa"
      },
      "outputs": [],
      "source": [
        "import pandas as pd\n",
        "df1= pd.read_csv(\"서울특별시 공공자전거 이용정보(시간대별)_2212.csv\",encoding='cp949', sep=',')\n",
        "df1.columns #대여시간으로 가장 많은 이용시간 찾기"
      ]
    },
    {
      "cell_type": "code",
      "source": [
        "!sudo apt-get install -y fonts-nanum # 매직메소드\n",
        "!sudo fc-cache -fv\n",
        "!rm ~/.cache/matplotlib -rf"
      ],
      "metadata": {
        "id": "iWTM0KUfZUea"
      },
      "execution_count": null,
      "outputs": []
    },
    {
      "cell_type": "code",
      "source": [
        "import matplotlib.font_manager as fm\n",
        "sys_font=fm.findSystemFonts()\n",
        "print(f\"sys_font number: {len(sys_font)}\")\n",
        "print(sys_font)\n",
        "\n",
        "nanum_font = [f for f in sys_font if 'Nanum' in f]\n",
        "print(f\"nanum_font number: {len(nanum_font)}\")"
      ],
      "metadata": {
        "id": "Mjo8QrcNh8Qs"
      },
      "execution_count": null,
      "outputs": []
    },
    {
      "cell_type": "code",
      "source": [
        "#사용할 컬럼만 뽑기\n",
        "columns = ['대여일자', '대여시간','대여소명','이용시간(분)', '이동거리(M)']\n",
        "df1 = df1.loc[:, columns]\n",
        "df1.info()"
      ],
      "metadata": {
        "id": "xCrirB_9lnYa"
      },
      "execution_count": null,
      "outputs": []
    },
    {
      "cell_type": "code",
      "source": [
        "df1['대여시간'].unique()"
      ],
      "metadata": {
        "id": "UXvcuPW9nYZC"
      },
      "execution_count": null,
      "outputs": []
    },
    {
      "cell_type": "code",
      "source": [
        "#정기권 없애기(잘못 들어온 정보)\n",
        "df1 = df1[df1['대여시간'] != '정기권']"
      ],
      "metadata": {
        "id": "RXBjRR2uF1-O"
      },
      "execution_count": null,
      "outputs": []
    },
    {
      "cell_type": "code",
      "source": [
        "df1.columns=['대여일자','대여시간','대여소명','이용시간','이동거리']"
      ],
      "metadata": {
        "id": "HRQ4IZ38Dv1n"
      },
      "execution_count": null,
      "outputs": []
    },
    {
      "cell_type": "code",
      "source": [
        "#결측치 없애기\n",
        "df1 = df1[(df1.이동거리> 0) & (df1.이용시간> 0 )]\n",
        "df1"
      ],
      "metadata": {
        "id": "FMSrG-Ebnxbm"
      },
      "execution_count": null,
      "outputs": []
    },
    {
      "cell_type": "code",
      "source": [
        "df_time_= df1.groupby('대여시간').sum().sort_values(['이동거리', '이용시간'], ascending=False)"
      ],
      "metadata": {
        "id": "4xAPFTzNEgBF"
      },
      "execution_count": null,
      "outputs": []
    },
    {
      "cell_type": "code",
      "source": [
        "df_time_"
      ],
      "metadata": {
        "id": "8AQxSiIBqpNu"
      },
      "execution_count": null,
      "outputs": []
    },
    {
      "cell_type": "code",
      "source": [
        "df_time_.to_csv('3조_시간대별이용현황.csv')  #가장 이동거리가 많은 대여시간과 적은 대여시간 뽑아서 그래프 만들기"
      ],
      "metadata": {
        "id": "61_5-gf5E7zw"
      },
      "execution_count": null,
      "outputs": []
    },
    {
      "cell_type": "code",
      "source": [
        "import matplotlib.pyplot as plt\n",
        "from matplotlib import rc\n",
        "\n",
        "plt.rc('font', family='NanumGothic')\n",
        "plt.rc('grid', linestyle='dashed', color='gray')\n",
        "plt.rcParams['axes.unicode_minus'] = False\n",
        "plt.rcParams['font.size'] = 8\n"
      ],
      "metadata": {
        "id": "25dlhxdNGF6B"
      },
      "execution_count": null,
      "outputs": []
    },
    {
      "cell_type": "code",
      "source": [
        "plt.scatter(df_time_['대여시간'], df_time_['이동거리'])\n",
        "plt.xlabel('대여 시간')\n",
        "plt.ylabel('이동 거리(백만km)')\n",
        "plt.xticks(df_time_.index)\n",
        "plt.show()"
      ],
      "metadata": {
        "id": "klEm_YfsQXYE"
      },
      "execution_count": null,
      "outputs": []
    },
    {
      "cell_type": "code",
      "source": [
        "plt.figure(figsize=(10, 8))\n",
        "\n",
        "\n",
        "plt.bar(df_time_['대여시간'], df_time_['이용시간'],color=['lightblue', 'lightgreen', 'lightpink', 'lightgray', 'lightgray'])\n",
        "plt.scatter(df_time_['대여시간'], df_time_['이동거리'])\n",
        "plt.xlabel('대여 시간')\n",
        "plt.ylabel('이용시간(단위:만)')\n",
        "plt.xticks(df_time_.index)\n",
        "\n",
        "\n",
        "\n",
        "plt.xlabel('대여 시간')\n",
        "plt.ylabel('이동 거리(백만km)')\n",
        "plt.xticks(df_time_.index)\n",
        "\n",
        "\n",
        "plt.show()"
      ],
      "metadata": {
        "id": "1J96P8ezP7Aa"
      },
      "execution_count": null,
      "outputs": []
    },
    {
      "cell_type": "code",
      "source": [
        "plt.figure(figsize=(10, 8))\n",
        "plt.bar(df_time_.index, df_time_['이용시간'], color=['lightblue', 'lightgreen', 'lightpink', 'lightgray'], alpha=0.5)\n",
        "plt.xlabel('대여 시간')\n",
        "plt.ylabel('이용시간(단위:만)')\n",
        "plt.xticks(df_time_.index)\n",
        "\n",
        "plt.twinx()\n",
        "plt.scatter(df_time_.index, df_time_['이동거리'], alpha=0.5)\n",
        "plt.ylabel('이동 거리(백만km)')\n",
        "\n",
        "plt.show()\n"
      ],
      "metadata": {
        "id": "fSBRqjHUkXgE"
      },
      "execution_count": null,
      "outputs": []
    },
    {
      "cell_type": "code",
      "source": [],
      "metadata": {
        "id": "-Cys6fCvmsjA"
      },
      "execution_count": null,
      "outputs": []
    }
  ]
}